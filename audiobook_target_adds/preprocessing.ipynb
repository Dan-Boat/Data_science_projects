{
 "cells": [
  {
   "cell_type": "code",
   "execution_count": 40,
   "id": "561de08f",
   "metadata": {},
   "outputs": [],
   "source": [
    "#import modules \n",
    "import numpy as np\n",
    "from sklearn import preprocessing "
   ]
  },
  {
   "cell_type": "code",
   "execution_count": 41,
   "id": "53116e23",
   "metadata": {},
   "outputs": [],
   "source": [
    "#loading data\n",
    "raw_data = np.loadtxt(\"Audiobooks_data.csv\", delimiter=\",\")\n",
    "\n",
    "#select targest and predictors without ID\n",
    "inputs_data = raw_data[:,1:-1]\n",
    "targets_data = raw_data[:,-1]\n",
    "\n",
    "# since the data was collected with time, it would be better to shuffle before batching \n",
    "data_indices = np.arange(inputs_data.shape[0])\n",
    "np.random.shuffle(data_indices)\n",
    "\n",
    "ínputs_data = inputs_data[data_indices]\n",
    "targets_data = targets_data[data_indices]"
   ]
  },
  {
   "cell_type": "code",
   "execution_count": 42,
   "id": "bd988216",
   "metadata": {},
   "outputs": [],
   "source": [
    "#balancing data (since the data consist of 1-for converters (those who purchased the audiobook again), 0-for converters), we \n",
    "# want to avoid a training data containing more non-converters than converters (already biased datasets)\n",
    "\n",
    "# sum of targets gives the number of converters \n",
    "num_converters = int(np.sum(targets_data))\n",
    "\n",
    "non_converters_counter = 0\n",
    "# lets count non-converters \n",
    "indices_to_remove = []\n",
    "\n",
    "for i in range(targets_data.shape[0]):\n",
    "    if targets_data[i] == 0:\n",
    "        non_converters_counter +=1\n",
    "        if non_converters_counter > num_converters:\n",
    "            indices_to_remove.append(i)\n",
    "            \n",
    "\n",
    "inputs_data_equal_priorsis = np.delete(inputs_data, indices_to_remove, axis=0)\n",
    "targets_data_equal_priors = np.delete(targets_data, indices_to_remove, axis=0)\n",
    "\n"
   ]
  },
  {
   "cell_type": "code",
   "execution_count": 43,
   "id": "de22d3a6",
   "metadata": {},
   "outputs": [],
   "source": [
    "#standardized dataset\n",
    "inputs_scaled_data = preprocessing.scale(inputs_data_equal_priorsis)\n",
    "\n",
    "#shuffle again \n",
    "shuffle_indices = np.arange(inputs_scaled_data.shape[0])\n",
    "np.random.shuffle(shuffle_indices)\n",
    "\n",
    "inputs_shuffle_data = inputs_scaled_data[shuffle_indices]\n",
    "targets_shuffle_data = targets_data_equal_priors[shuffle_indices]"
   ]
  },
  {
   "cell_type": "code",
   "execution_count": 44,
   "id": "0d217cde",
   "metadata": {},
   "outputs": [
    {
     "name": "stdout",
     "output_type": "stream",
     "text": [
      "1802.0 3579 0.5034925956971221\n",
      "216.0 447 0.48322147651006714\n",
      "219.0 448 0.4888392857142857\n"
     ]
    }
   ],
   "source": [
    "#split data into train, validation and test (80%,10%, 10%)\n",
    "\n",
    "num_samples = inputs_shuffle_data.shape[0]\n",
    "\n",
    "num_train_samples = int(0.8* num_samples)\n",
    "\n",
    "num_validation_samples = int(0.1* num_samples)\n",
    "\n",
    "num_test_samples = num_samples - num_train_samples - num_validation_samples\n",
    "\n",
    "#selecting data\n",
    "train_inputs = inputs_shuffle_data[:num_train_samples]\n",
    "train_targets = targets_shuffle_data[:num_train_samples]\n",
    "\n",
    "validation_inputs = inputs_shuffle_data[num_train_samples: num_train_samples + num_validation_samples]\n",
    "validation_targets = targets_shuffle_data[num_train_samples: num_train_samples + num_validation_samples]\n",
    "\n",
    "test_inputs = inputs_shuffle_data[num_train_samples + num_validation_samples:]\n",
    "test_targets = targets_shuffle_data[num_train_samples + num_validation_samples:]\n",
    "\n",
    "# check the number of ones in all the sections \n",
    "print(np.sum(train_targets), num_train_samples, np.sum(train_targets)/num_train_samples)\n",
    "print(np.sum(validation_targets), num_validation_samples, np.sum(validation_targets)/num_validation_samples)\n",
    "print(np.sum(test_targets), num_test_samples, np.sum(test_targets)/num_test_samples)"
   ]
  },
  {
   "cell_type": "code",
   "execution_count": 45,
   "id": "81da2efb",
   "metadata": {},
   "outputs": [],
   "source": [
    "# save data in npz file \n",
    "np.savez(\"Audiobooks_data_train\", inputs= train_inputs, targets=train_targets)\n",
    "np.savez(\"Audiobooks_data_validation\", inputs= validation_inputs, targets=validation_targets)\n",
    "np.savez(\"Audiobooks_data_test\", inputs= test_inputs, targets=test_targets)"
   ]
  },
  {
   "cell_type": "code",
   "execution_count": null,
   "id": "682af948",
   "metadata": {},
   "outputs": [],
   "source": []
  }
 ],
 "metadata": {
  "kernelspec": {
   "display_name": "Python 3 (ipykernel)",
   "language": "python",
   "name": "python3"
  },
  "language_info": {
   "codemirror_mode": {
    "name": "ipython",
    "version": 3
   },
   "file_extension": ".py",
   "mimetype": "text/x-python",
   "name": "python",
   "nbconvert_exporter": "python",
   "pygments_lexer": "ipython3",
   "version": "3.9.7"
  }
 },
 "nbformat": 4,
 "nbformat_minor": 5
}
