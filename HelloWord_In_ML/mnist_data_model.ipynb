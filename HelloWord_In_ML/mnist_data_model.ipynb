{
 "cells": [
  {
   "cell_type": "markdown",
   "id": "cf1450a6",
   "metadata": {},
   "source": [
    "## Deep Neural Network for MNIST Classification\n",
    "\n",
    "### \"Hello World of deep learning\"\n",
    "\n",
    "#### MNIST dataset are handwritten digit recognition (70,000 images (28x28 pixels per digit per image))\n",
    "\n",
    "##### Goal is to write an algorithm that detects which digit is written (10 classes classification problems)"
   ]
  },
  {
   "cell_type": "code",
   "execution_count": 27,
   "id": "52d344d8",
   "metadata": {},
   "outputs": [],
   "source": [
    "# importing models \n",
    "import tensorflow as tf \n",
    "import tensorflow_datasets as tfds\n",
    "from tensorflow.keras.layers import Flatten, Dense\n",
    "from tensorflow.keras import Sequential"
   ]
  },
  {
   "cell_type": "code",
   "execution_count": 28,
   "id": "e01cc2a9",
   "metadata": {},
   "outputs": [],
   "source": [
    "#loading data (as supervised and with data information)\n",
    "mnist_data, mnist_info = tfds.load(name=\"mnist\", with_info=True, as_supervised=True)"
   ]
  },
  {
   "cell_type": "code",
   "execution_count": 29,
   "id": "0c43a051",
   "metadata": {},
   "outputs": [],
   "source": [
    "# extracting train and test data \n",
    "mnist_train, mnist_test = mnist_data[\"train\"], mnist_data[\"test\"]\n",
    "\n",
    "#setting validation size (cast as integer)\n",
    "validation_samples_num = 0.1*mnist_info.splits[\"train\"].num_examples\n",
    "validation_samples_num = tf.cast(validation_samples_num, tf.int64)\n",
    "\n",
    "# get test size as well \n",
    "test_samples_num = mnist_info.splits[\"test\"].num_examples\n",
    "test_samples_num = tf.cast(test_samples_num, tf.int64)"
   ]
  },
  {
   "cell_type": "code",
   "execution_count": 30,
   "id": "47e29137",
   "metadata": {},
   "outputs": [],
   "source": [
    "#scale data to make numerically stable (0-white to 255-black), scale within 0-1\n",
    "def scale(image, label):\n",
    "    #cast the image into float \n",
    "    image = tf.cast(image, tf.float32)\n",
    "    image /= 255.\n",
    "    return image, label\n",
    "\n",
    "# use .map method for customized transformeers\n",
    "train_scaled_data = mnist_train.map(scale)\n",
    "test_scaled_data = mnist_test.map(scale)\n"
   ]
  },
  {
   "cell_type": "code",
   "execution_count": 31,
   "id": "f17a1759",
   "metadata": {},
   "outputs": [],
   "source": [
    "# to prevent the repetitive patterns, shuffling can challenge our model \n",
    "BUFFER_SIZE=10000\n",
    "train_scaled_shuffle = train_scaled_data.shuffle(BUFFER_SIZE)\n",
    "\n",
    "#extract the 10% for validation using take and skip method \n",
    "validation_scaled_shuffle = train_scaled_shuffle.take(validation_samples_num)\n",
    "trained_scaled_shuffle = train_scaled_shuffle.skip(validation_samples_num)\n",
    "\n",
    "# set batch size of model (which help to train the model)--helpful for my poor laptop \n",
    "BATCH_SIZE = 100\n",
    "train_data = train_scaled_shuffle.batch(BATCH_SIZE)\n",
    "\n",
    "#since we only forward propagate to calculate loss in the validation and test data, we set one batch (size of sample)\n",
    "validation_data = validation_scaled_shuffle.batch(validation_samples_num)\n",
    "test_data = test_scaled_data.batch(test_samples_num)\n",
    "\n",
    "#split input and target data \n",
    "validation_inputs, validation_targets = next(iter(validation_data))\n"
   ]
  },
  {
   "cell_type": "code",
   "execution_count": 34,
   "id": "56cca00b",
   "metadata": {},
   "outputs": [],
   "source": [
    "def build_nn(hidden_layer_size, input_size, output_size, plot_network=False, activation=\"relu\"):\n",
    "    \n",
    "    #simple structure---complex like 5000 (10 layers) on 100 epochs will give 99% accuracy \n",
    "    model=Sequential()\n",
    "    model.add(Flatten(input_shape=(28,28,1))) #transform into vector data (input layer)\n",
    "    model.add(Dense(hidden_layer_size, activation=activation)) #1st layer\n",
    "    model.add(Dense(hidden_layer_size, activation=activation))#2nd layer\n",
    "    model.add(Dense(output_size, activation=\"softmax\")) #output layer (since categorical data transform outputs into probabilities)\n",
    "    \n",
    "    from ann_visualizer.visualize import ann_viz\n",
    "    if plot_network ==True:\n",
    "        ann_viz(model, title=\"Dense Model\")\n",
    "    \n",
    "    model.compile(optimizer=\"adam\", loss=\"sparse_categorical_crossentropy\", metrics=[\"accuracy\"])\n",
    "    return model \n",
    "model = build_nn(hidden_layer_size=50, input_size=784, output_size=10, plot_network=False, activation=\"relu\")"
   ]
  },
  {
   "cell_type": "code",
   "execution_count": 35,
   "id": "90eac793",
   "metadata": {},
   "outputs": [
    {
     "name": "stdout",
     "output_type": "stream",
     "text": [
      "Epoch 1/5\n",
      "600/600 - 5s - loss: 0.3799 - accuracy: 0.8930 - val_loss: 0.1915 - val_accuracy: 0.9437 - 5s/epoch - 9ms/step\n",
      "Epoch 2/5\n",
      "600/600 - 2s - loss: 0.1783 - accuracy: 0.9487 - val_loss: 0.1392 - val_accuracy: 0.9590 - 2s/epoch - 4ms/step\n",
      "Epoch 3/5\n",
      "600/600 - 2s - loss: 0.1357 - accuracy: 0.9612 - val_loss: 0.1064 - val_accuracy: 0.9698 - 2s/epoch - 4ms/step\n",
      "Epoch 4/5\n",
      "600/600 - 3s - loss: 0.1113 - accuracy: 0.9669 - val_loss: 0.0932 - val_accuracy: 0.9722 - 3s/epoch - 5ms/step\n",
      "Epoch 5/5\n",
      "600/600 - 2s - loss: 0.0921 - accuracy: 0.9731 - val_loss: 0.0729 - val_accuracy: 0.9802 - 2s/epoch - 4ms/step\n"
     ]
    },
    {
     "data": {
      "text/plain": [
       "<keras.callbacks.History at 0x1dcb6b0ea30>"
      ]
     },
     "execution_count": 35,
     "metadata": {},
     "output_type": "execute_result"
    }
   ],
   "source": [
    "num_epochs = 5\n",
    "model.fit(train_data, epochs=num_epochs, validation_data=(validation_inputs, validation_targets), verbose=2)"
   ]
  },
  {
   "cell_type": "code",
   "execution_count": 38,
   "id": "b99cd041",
   "metadata": {},
   "outputs": [
    {
     "name": "stdout",
     "output_type": "stream",
     "text": [
      "1/1 [==============================] - 0s 251ms/step - loss: 0.1063 - accuracy: 0.9666\n",
      "Test loss: 0.11. Test accuracy: 96.66\n"
     ]
    }
   ],
   "source": [
    "# testing the model since the above is the validation accuracy (reality check to check overfiting of validation parameters)\n",
    "test_loss, test_accuracy = model.evaluate(test_data)\n",
    "print(\"Test loss: {0:.2f}. Test accuracy: {1:.2f}\".format(test_loss, test_accuracy*100.))"
   ]
  }
 ],
 "metadata": {
  "kernelspec": {
   "display_name": "Python 3 (ipykernel)",
   "language": "python",
   "name": "python3"
  },
  "language_info": {
   "codemirror_mode": {
    "name": "ipython",
    "version": 3
   },
   "file_extension": ".py",
   "mimetype": "text/x-python",
   "name": "python",
   "nbconvert_exporter": "python",
   "pygments_lexer": "ipython3",
   "version": "3.9.7"
  }
 },
 "nbformat": 4,
 "nbformat_minor": 5
}
