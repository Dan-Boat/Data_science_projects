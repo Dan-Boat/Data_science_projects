{
 "cells": [
  {
   "cell_type": "markdown",
   "id": "e3f7c827",
   "metadata": {},
   "source": [
    "### CNN for cat or dog classification\n",
    "\n",
    "#### This project uses CNN to build a classification algorithm that would be train with 8000 images of cats and gods. With the model architecture, we use the traditional simple steps: convolution with filters, pooling with MaxPool2D, flattening and model optimization with dense model (adam)"
   ]
  },
  {
   "cell_type": "code",
   "execution_count": 16,
   "id": "c4154bfb",
   "metadata": {},
   "outputs": [],
   "source": [
    "import tensorflow as tf \n",
    "from keras.preprocessing.image import ImageDataGenerator"
   ]
  },
  {
   "cell_type": "code",
   "execution_count": 17,
   "id": "f1cfef2a",
   "metadata": {},
   "outputs": [
    {
     "name": "stdout",
     "output_type": "stream",
     "text": [
      "Found 8000 images belonging to 2 classes.\n"
     ]
    }
   ],
   "source": [
    "# Initiate data generator class\n",
    "train_data = ImageDataGenerator(rescale = 1./255, \n",
    "                           shear_range = 0.2,\n",
    "                           zoom_range = 0.2,\n",
    "                           horizontal_flip = True)\n",
    "\n",
    "training_set = train_data.flow_from_directory(\"dataset/training_set\",\n",
    "                                             target_size = (64,64),\n",
    "                                             batch_size = 32,\n",
    "                                             class_mode = \"binary\")"
   ]
  },
  {
   "cell_type": "code",
   "execution_count": 18,
   "id": "8b79a24f",
   "metadata": {},
   "outputs": [
    {
     "name": "stdout",
     "output_type": "stream",
     "text": [
      "Found 2000 images belonging to 2 classes.\n"
     ]
    }
   ],
   "source": [
    "# Initiate the test data generator (but with no transformation)\n",
    "test_data = ImageDataGenerator(rescale = 1./255)\n",
    "test_set = test_data.flow_from_directory(\"dataset/test_set\",\n",
    "                                             target_size = (64,64),\n",
    "                                             batch_size = 32,\n",
    "                                             class_mode = \"binary\")"
   ]
  },
  {
   "cell_type": "code",
   "execution_count": 19,
   "id": "4f22e232",
   "metadata": {},
   "outputs": [],
   "source": [
    "# Building model \n",
    "\n",
    "#initialise \n",
    "cnn = tf.keras.models.Sequential()"
   ]
  },
  {
   "cell_type": "code",
   "execution_count": 20,
   "id": "887b673f",
   "metadata": {},
   "outputs": [],
   "source": [
    "#step 1: Convolution \n",
    "\n",
    "# note I change the size to 64x64 and images are coloured ->3\n",
    "cnn.add(tf.keras.layers.Conv2D(filters=32, kernel_size=3, activation=\"relu\", input_shape=[64,64,3]))"
   ]
  },
  {
   "cell_type": "code",
   "execution_count": 21,
   "id": "176e3414",
   "metadata": {},
   "outputs": [],
   "source": [
    "# step 2: Pooling \n",
    "\n",
    "cnn.add(tf.keras.layers.MaxPool2D(pool_size=2, strides=2, padding=\"valid\"))"
   ]
  },
  {
   "cell_type": "code",
   "execution_count": 22,
   "id": "56e5d0ec",
   "metadata": {},
   "outputs": [],
   "source": [
    "#adding second layer \n",
    "cnn.add(tf.keras.layers.Conv2D(filters=32, kernel_size=3, activation=\"relu\"))\n",
    "cnn.add(tf.keras.layers.MaxPool2D(pool_size=2, strides=2, padding = \"valid\"))"
   ]
  },
  {
   "cell_type": "code",
   "execution_count": 23,
   "id": "1592073d",
   "metadata": {},
   "outputs": [],
   "source": [
    "# step 3: Flattening \n",
    "\n",
    "cnn.add(tf.keras.layers.Flatten())"
   ]
  },
  {
   "cell_type": "code",
   "execution_count": 24,
   "id": "573e493f",
   "metadata": {},
   "outputs": [],
   "source": [
    "#step 4: full connection \n",
    "\n",
    "cnn.add(tf.keras.layers.Dense(units=128, activation=\"relu\"))"
   ]
  },
  {
   "cell_type": "code",
   "execution_count": 25,
   "id": "8f0a6e1c",
   "metadata": {},
   "outputs": [],
   "source": [
    "# step 5: Output Layer \n",
    "\n",
    "cnn.add(tf.keras.layers.Dense(units=1, activation = \"sigmoid\"))"
   ]
  },
  {
   "cell_type": "code",
   "execution_count": 26,
   "id": "81bef2a6",
   "metadata": {},
   "outputs": [],
   "source": [
    "# compiling \n",
    "\n",
    "cnn.compile(optimizer = \"adam\", loss = \"binary_crossentropy\", metrics = [\"accuracy\"])"
   ]
  },
  {
   "cell_type": "code",
   "execution_count": 27,
   "id": "746cf154",
   "metadata": {},
   "outputs": [
    {
     "name": "stdout",
     "output_type": "stream",
     "text": [
      "Epoch 1/10\n",
      "250/250 [==============================] - 110s 439ms/step - loss: 0.6724 - accuracy: 0.5906 - val_loss: 0.6085 - val_accuracy: 0.6810\n",
      "Epoch 2/10\n",
      "250/250 [==============================] - 71s 285ms/step - loss: 0.5993 - accuracy: 0.6806 - val_loss: 0.5554 - val_accuracy: 0.7290\n",
      "Epoch 3/10\n",
      "250/250 [==============================] - 63s 251ms/step - loss: 0.5607 - accuracy: 0.7090 - val_loss: 0.5750 - val_accuracy: 0.7260\n",
      "Epoch 4/10\n",
      "250/250 [==============================] - 60s 240ms/step - loss: 0.5269 - accuracy: 0.7344 - val_loss: 0.5652 - val_accuracy: 0.7285\n",
      "Epoch 5/10\n",
      "250/250 [==============================] - 65s 259ms/step - loss: 0.4988 - accuracy: 0.7580 - val_loss: 0.5204 - val_accuracy: 0.7500\n",
      "Epoch 6/10\n",
      "250/250 [==============================] - 60s 240ms/step - loss: 0.4909 - accuracy: 0.7590 - val_loss: 0.4987 - val_accuracy: 0.7600\n",
      "Epoch 7/10\n",
      "250/250 [==============================] - 59s 236ms/step - loss: 0.4775 - accuracy: 0.7675 - val_loss: 0.4703 - val_accuracy: 0.7795\n",
      "Epoch 8/10\n",
      "250/250 [==============================] - 59s 234ms/step - loss: 0.4582 - accuracy: 0.7824 - val_loss: 0.5052 - val_accuracy: 0.7465\n",
      "Epoch 9/10\n",
      "250/250 [==============================] - 58s 233ms/step - loss: 0.4377 - accuracy: 0.7941 - val_loss: 0.4746 - val_accuracy: 0.7800\n",
      "Epoch 10/10\n",
      "250/250 [==============================] - 59s 235ms/step - loss: 0.4229 - accuracy: 0.8014 - val_loss: 0.4684 - val_accuracy: 0.7765\n"
     ]
    },
    {
     "data": {
      "text/plain": [
       "<keras.callbacks.History at 0x18836094160>"
      ]
     },
     "execution_count": 27,
     "metadata": {},
     "output_type": "execute_result"
    }
   ],
   "source": [
    "# trainig on the 8,000 images \n",
    "\n",
    "cnn.fit(x = training_set, validation_data = test_set, epochs =10)"
   ]
  },
  {
   "cell_type": "code",
   "execution_count": 30,
   "id": "f39a1e81",
   "metadata": {},
   "outputs": [],
   "source": [
    "# making prediction on single image \n",
    "\n",
    "import numpy as np \n",
    "from keras.preprocessing import image \n",
    "test_image = image.load_img(\"dataset/single_prediction/cat_or_dog_1.jpg\", target_size= (64,64))\n",
    "\n",
    "#convert PIL image to numpy array \n",
    "test_image = image.img_to_array(test_image)\n",
    "\n",
    "#add extra dimention to add the batch \n",
    "test_image = np.expand_dims(test_image, axis = 0)\n",
    "result = cnn.predict(test_image)\n"
   ]
  },
  {
   "cell_type": "code",
   "execution_count": 31,
   "id": "b8d6d8c3",
   "metadata": {},
   "outputs": [
    {
     "data": {
      "text/plain": [
       "{'cats': 0, 'dogs': 1}"
      ]
     },
     "execution_count": 31,
     "metadata": {},
     "output_type": "execute_result"
    }
   ],
   "source": [
    "#check indices of cat or dog targets\n",
    "training_set.class_indices"
   ]
  },
  {
   "cell_type": "code",
   "execution_count": 32,
   "id": "def56992",
   "metadata": {},
   "outputs": [
    {
     "name": "stdout",
     "output_type": "stream",
     "text": [
      "Dog\n"
     ]
    }
   ],
   "source": [
    "if result[0][0] == 1: \n",
    "    prediction = \"Dog\"\n",
    "else:\n",
    "    prediction = \"Cat\"\n",
    "    \n",
    "print(prediction)"
   ]
  }
 ],
 "metadata": {
  "kernelspec": {
   "display_name": "Python 3 (ipykernel)",
   "language": "python",
   "name": "python3"
  },
  "language_info": {
   "codemirror_mode": {
    "name": "ipython",
    "version": 3
   },
   "file_extension": ".py",
   "mimetype": "text/x-python",
   "name": "python",
   "nbconvert_exporter": "python",
   "pygments_lexer": "ipython3",
   "version": "3.9.7"
  }
 },
 "nbformat": 4,
 "nbformat_minor": 5
}
